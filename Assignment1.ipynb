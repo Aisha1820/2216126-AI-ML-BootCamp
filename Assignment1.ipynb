{
  "nbformat": 4,
  "nbformat_minor": 0,
  "metadata": {
    "colab": {
      "name": "Assignment1.ipynb",
      "provenance": [],
      "collapsed_sections": [],
      "authorship_tag": "ABX9TyPOg0lA8Cc1PkLUXTti3AOp",
      "include_colab_link": true
    },
    "kernelspec": {
      "name": "python3",
      "display_name": "Python 3"
    },
    "language_info": {
      "name": "python"
    }
  },
  "cells": [
    {
      "cell_type": "markdown",
      "metadata": {
        "id": "view-in-github",
        "colab_type": "text"
      },
      "source": [
        "<a href=\"https://colab.research.google.com/github/Aisha1820/2216126-AI-ML-BootCamp/blob/main/Assignment1.ipynb\" target=\"_parent\"><img src=\"https://colab.research.google.com/assets/colab-badge.svg\" alt=\"Open In Colab\"/></a>"
      ]
    },
    {
      "cell_type": "markdown",
      "source": [
        "Q1. Implement the methods of String with examples.\n"
      ],
      "metadata": {
        "id": "RT_omU0IVTJ4"
      }
    },
    {
      "cell_type": "code",
      "source": [
        "my_str=\"my name is ayesha\"\n",
        "print(my_str)\n",
        "print(type(my_str))\n",
        "print(len(my_str)) #Length \n",
        "print(my_str.lower()) #Lowercase\n",
        "print(my_str.upper()) #Uppercase\n",
        "print(my_str.swapcase()) #Swapcase\n",
        "print(my_str.title()) #Title\n",
        "print(my_str.capitalize()) #Capitalize\n",
        "print(my_str.casefold()) #casefold\n",
        "print(my_str.center(30)) #center\n",
        "print(my_str.replace('ayesha','aisha')) #Replace\n",
        "print(my_str.count('a')) #Number of occurence \n",
        "print(my_str.find('i')) #Finding the index \n",
        "print(my_str[-1]) #Indexing\n",
        "print(my_str[1:4]) #Slicing\n",
        "print(my_str[2:]) \n",
        "print(my_str*3) #Replicate\n",
        "print(my_str+\"shahanaz\") #Concatenation\n",
        "print(my_str.strip()) #Strip \n",
        "print(my_str.split(\",\")) #Split\n",
        "print(my_str.isalnum()) #isalphanumeric \n",
        "print(my_str.isalpha()) #isalpha\n",
        "print(my_str.isdigit()) #isdigit "
      ],
      "metadata": {
        "id": "41nQgrdYVya5"
      },
      "execution_count": null,
      "outputs": []
    },
    {
      "cell_type": "markdown",
      "source": [
        "Q2. Implement the methods of List with examples."
      ],
      "metadata": {
        "id": "mg31m_KIbaGx"
      }
    },
    {
      "cell_type": "code",
      "source": [
        "l1=[1,'angel',5.31,True,False,]\n",
        "l2=[2,'dad','25i+3j','hi']\n",
        "print(l1)\n",
        "print(l2)\n",
        "print(len(l1)) #length of list1\n",
        "print(len(l2)) #length of list2\n",
        "print(type(l1))\n",
        "print(l1[2])#extracting individual element\n",
        "print(l1[0:3]) #slicing\n",
        "print(l1[-2]) #indexing\n",
        "print(l1*2) #replicating\n",
        "l2.append(3) #append\n",
        "print(l2)\n",
        "l2.extend([1,4,6]) #extend\n",
        "print(l2)\n",
        "l1.insert(9,'hello') #insert\n",
        "print(l1)\n",
        "print(l2.pop(1)) #pop\n",
        "print(l1+l2) #concatenation\n",
        "l1.reverse() #reverse\n",
        "print(l1)\n",
        "print(l1.clear()) #clear"
      ],
      "metadata": {
        "id": "GqK5626iblol"
      },
      "execution_count": null,
      "outputs": []
    },
    {
      "cell_type": "markdown",
      "source": [
        "Q3. Implement the methods of Tuple with examples."
      ],
      "metadata": {
        "id": "vF7vEnNrT7l-"
      }
    },
    {
      "cell_type": "code",
      "source": [
        "tup1=('abc',123,'hello',35.26,98)\n",
        "tup2=('angle','daddy',58,95.02)\n",
        "print(type(tup1))\n",
        "print(len(tup1)) #Length of tuple\n",
        "print(len(tup2))\n",
        "print(tup1[2]) #indexing\n",
        "print(tup2[-3:2]) #slicing\n",
        "print(tup1+tup2) #concatenation\n",
        "print(tup2*3) #replicating\n",
        "print(tup1,tup2) #compares element"
      ],
      "metadata": {
        "id": "UWlA36J4UMJd"
      },
      "execution_count": null,
      "outputs": []
    },
    {
      "cell_type": "markdown",
      "source": [
        "Q4. Implement the methods of Dictionary with examples."
      ],
      "metadata": {
        "id": "fnBnJoKfX534"
      }
    },
    {
      "cell_type": "code",
      "source": [
        "d={1:'apple',50:'marks',8:'dogs'}\n",
        "print(type(d))\n",
        "print(len(d)) #length of dictionary\n",
        "print(d.keys()) #keys\n",
        "print(d.values()) #values\n",
        "print(d[8])\n",
        "d[1]='hello' #updating\n",
        "print(d)\n",
        "d['name']='ayesha' #adding elements\n",
        "d[9]='babies'\n",
        "print(d)\n",
        "d1={5:'strawberry',6:'icecream','age':23}\n",
        "print(d1.items()) #items method\n",
        "print(d1.get(6)) #get method\n",
        "d2=d1.copy() #copy method\n",
        "print(d2)\n",
        "d1.pop(5) #pop method\n",
        "print(d1)"
      ],
      "metadata": {
        "id": "Eo65UfjDYEsJ"
      },
      "execution_count": null,
      "outputs": []
    },
    {
      "cell_type": "markdown",
      "source": [
        "Q5. Implement the methods of set with examples."
      ],
      "metadata": {
        "id": "059h7Gf0c6ia"
      }
    },
    {
      "cell_type": "code",
      "source": [
        "s={1,'girl',True,25,False}\n",
        "print(type(s))\n",
        "print(len(s)) #length of set\n",
        "s.add('hell0') #adding new element\n",
        "print(s)\n",
        "s.update([10,20,30,40]) #updating multiple element\n",
        "print(s)\n",
        "s.remove(10) #remove a element\n",
        "print(s)\n",
        "s1={9,5,2} #Union\n",
        "print(s.union(s1))\n",
        "print(s.intersection(s1)) #intersection\n"
      ],
      "metadata": {
        "id": "fwHu--yUdF58"
      },
      "execution_count": null,
      "outputs": []
    },
    {
      "cell_type": "markdown",
      "source": [
        "Q6. Write a python program to convert Decimal to binary, Octal and Hexadecimal with direct method."
      ],
      "metadata": {
        "id": "J4t5ijF8jxvZ"
      }
    },
    {
      "cell_type": "code",
      "source": [
        "d=58\n",
        "print(bin(d)) #Binary\n",
        "print(oct(d)) #Octal\n",
        "print(hex(d)) #Hexadecimal"
      ],
      "metadata": {
        "id": "iqPrxFJAkACq",
        "colab": {
          "base_uri": "https://localhost:8080/"
        },
        "outputId": "78c3b1a1-2991-4ff7-c406-fe0e767c0b6b"
      },
      "execution_count": 4,
      "outputs": [
        {
          "output_type": "stream",
          "name": "stdout",
          "text": [
            "0b111010\n",
            "0o72\n",
            "0x3a\n"
          ]
        }
      ]
    },
    {
      "cell_type": "markdown",
      "source": [
        "Q7.Implement Arithmetic operators with examples."
      ],
      "metadata": {
        "id": "xsFNBFjBkA-r"
      }
    },
    {
      "cell_type": "code",
      "source": [
        "a=20\n",
        "b=10\n",
        "a+b #addition\n",
        "a-b #subtraction\n",
        "a*b #multiplication\n",
        "a/b #division\n",
        "a%b #modulus\n",
        "a**b #exponent\n",
        "a//b #floor division"
      ],
      "metadata": {
        "id": "feUfN9MEkJbg"
      },
      "execution_count": null,
      "outputs": []
    },
    {
      "cell_type": "markdown",
      "source": [
        "Q8. Implement Assignment operators with examples."
      ],
      "metadata": {
        "id": "UnbciIwgkMXJ"
      }
    },
    {
      "cell_type": "code",
      "source": [
        "a=30\n",
        "b=50\n",
        "c=0\n",
        "c=a+b #simple assignment operator\n",
        "print('c=a+b=',c)\n",
        "c+=a #add AND\n",
        "print('c=c+a=',c)\n",
        "c-=a #subtract AND\n",
        "print('c=c-a=',c)\n",
        "c*=a #multiply AND\n",
        "print('c=c*a=',c)\n",
        "c/=a #divide AND\n",
        "print('c=c/a=',c)\n",
        "c%=a #modulus AND\n",
        "print('c=c%a=',c)\n",
        "c=2 \n",
        "c**=a #exponent AND\n",
        "print('c=c**a=',c)\n",
        "c//=a #Floor division\n",
        "print('c=c//a=',c)"
      ],
      "metadata": {
        "id": "oUmDQPrCkSDG"
      },
      "execution_count": null,
      "outputs": []
    },
    {
      "cell_type": "markdown",
      "source": [
        "Q9. Implement Comparison operators with examples."
      ],
      "metadata": {
        "id": "Yvt73L52kShp"
      }
    },
    {
      "cell_type": "code",
      "source": [
        "a=40\n",
        "b=50\n",
        "print(a==b) #equal\n",
        "print(a!=b) #not equal\n",
        "print(a>b) #greater than\n",
        "print(a<b) #less than\n",
        "print(a>=b) #greater than or equal to\n",
        "print(a<=b) #less than or equal to"
      ],
      "metadata": {
        "id": "Mz4Zs5vWkYwM"
      },
      "execution_count": null,
      "outputs": []
    },
    {
      "cell_type": "markdown",
      "source": [
        "Q10. Implement Logical operators with examples."
      ],
      "metadata": {
        "id": "71v2MHxJkcii"
      }
    },
    {
      "cell_type": "code",
      "source": [
        "a=10\n",
        "print(a>3 and a<20) #AND\n",
        "print(a<5 or a<4) #OR\n",
        "print(not(a>3 and a<20)) #NOT"
      ],
      "metadata": {
        "id": "iPDAS_pokiWX"
      },
      "execution_count": null,
      "outputs": []
    },
    {
      "cell_type": "markdown",
      "source": [
        "Q11. Implement Bitwise operators with examples."
      ],
      "metadata": {
        "id": "rJj6rKX2trr2"
      }
    },
    {
      "cell_type": "code",
      "source": [
        "a=40\n",
        "b=20\n",
        "print(a&b) #AND\n",
        "print(a|b) #OR\n",
        "print(a^b) #XOR\n",
        "print(~a) #NOT\n",
        "print(a<<2) #Zero fill left shift\n",
        "print(a>>2) #Signed right shift"
      ],
      "metadata": {
        "id": "XeDy7EgYt3CJ"
      },
      "execution_count": null,
      "outputs": []
    },
    {
      "cell_type": "markdown",
      "source": [
        "Q12. Implement Membership Operators with examples."
      ],
      "metadata": {
        "id": "PUzeuDwrt3XN"
      }
    },
    {
      "cell_type": "code",
      "source": [
        "a=90\n",
        "b=50\n",
        "l=[10,20,30,40,50]\n",
        "print(a in l) #IN\n",
        "print(b in l)\n",
        "print(a not in l) #NOT IN\n",
        "print(b not in l)"
      ],
      "metadata": {
        "id": "Mv2Ogr-ft9pW"
      },
      "execution_count": null,
      "outputs": []
    },
    {
      "cell_type": "markdown",
      "source": [
        "Q13. Implement Identity Operators with examples."
      ],
      "metadata": {
        "id": "u7fkNXg-t98O"
      }
    },
    {
      "cell_type": "code",
      "source": [
        "a=80\n",
        "b=20\n",
        "print(a is b) #is\n",
        "print(b is a)\n",
        "print(a is not b) #is not\n",
        "print(b is not a)"
      ],
      "metadata": {
        "id": "uk8TWFHyuDbF"
      },
      "execution_count": null,
      "outputs": []
    },
    {
      "cell_type": "markdown",
      "source": [
        "Q14. Demonstrate Negative indexing for list and apply slicing"
      ],
      "metadata": {
        "id": "Hg3wZ3w3uD6L"
      }
    },
    {
      "cell_type": "code",
      "source": [
        "l=[10,20,30,40,50,60]\n",
        "print('\\nOriginal List:\\n',l)\n",
        "print('\\nSliced list:')\n",
        "print(l[::-2])\n",
        "print(l[::-4])\n",
        "print(l[:1:-4])"
      ],
      "metadata": {
        "id": "bVttAPRmuLlo"
      },
      "execution_count": null,
      "outputs": []
    },
    {
      "cell_type": "markdown",
      "source": [
        "Q15. Predict the output for the given code snippet and justify the result."
      ],
      "metadata": {
        "id": "EZUntLLhuL5U"
      }
    },
    {
      "cell_type": "code",
      "source": [
        "print('A series of characters designated as one object known as a string'[::-1][4::3])\n",
        "print(\"-----------\")\n",
        "print('Welcome to python training program'[3:10][::-1])"
      ],
      "metadata": {
        "id": "T4CPclDh427J"
      },
      "execution_count": null,
      "outputs": []
    },
    {
      "cell_type": "markdown",
      "source": [
        "Q16. Write a python code to get desired output.\n"
      ],
      "metadata": {
        "id": "-9Wrz5k943Wi"
      }
    },
    {
      "cell_type": "code",
      "source": [
        "str=\"was it a car or a cat I saw\"\n",
        "str=\"\\twas\\ti\\ttac\\ta\\tro\\trac\\ta\\ttI\\tsaw\"\n",
        "print(str.upper())\n"
      ],
      "metadata": {
        "colab": {
          "base_uri": "https://localhost:8080/"
        },
        "id": "E0ybGviKqA4q",
        "outputId": "d5dcab21-99fb-4fcd-d94e-a66e059afe14"
      },
      "execution_count": 11,
      "outputs": [
        {
          "output_type": "stream",
          "name": "stdout",
          "text": [
            "\tWAS\tI\tTAC\tA\tRO\tRAC\tA\tTI\tSAW\n"
          ]
        }
      ]
    },
    {
      "cell_type": "markdown",
      "source": [
        "Q17. You are required to generate a word similar to ZOO, X and Y that denote the number of Zs and Os respectively.The generated word similar to ZOO where Y= 2 * X."
      ],
      "metadata": {
        "id": "3h9BU9s6tXbm"
      }
    },
    {
      "cell_type": "code",
      "source": [
        ""
      ],
      "metadata": {
        "colab": {
          "base_uri": "https://localhost:8080/",
          "height": 200
        },
        "id": "e_3LdOn4t4Qt",
        "outputId": "1e944c4a-6a4c-4d5d-a8e4-3a7d33c54c76"
      },
      "execution_count": 20,
      "outputs": [
        {
          "output_type": "error",
          "ename": "TypeError",
          "evalue": "ignored",
          "traceback": [
            "\u001b[0;31m---------------------------------------------------------------------------\u001b[0m",
            "\u001b[0;31mTypeError\u001b[0m                                 Traceback (most recent call last)",
            "\u001b[0;32m<ipython-input-20-2d76c43d5803>\u001b[0m in \u001b[0;36m<module>\u001b[0;34m()\u001b[0m\n\u001b[1;32m      3\u001b[0m \u001b[0my\u001b[0m\u001b[0;34m=\u001b[0m\u001b[0;34m'O'\u001b[0m\u001b[0;34m\u001b[0m\u001b[0;34m\u001b[0m\u001b[0m\n\u001b[1;32m      4\u001b[0m \u001b[0my\u001b[0m\u001b[0;34m=\u001b[0m\u001b[0;36m2\u001b[0m\u001b[0;34m*\u001b[0m\u001b[0mx\u001b[0m\u001b[0;34m\u001b[0m\u001b[0;34m\u001b[0m\u001b[0m\n\u001b[0;32m----> 5\u001b[0;31m \u001b[0mprint\u001b[0m\u001b[0;34m(\u001b[0m\u001b[0mx\u001b[0m\u001b[0;34m=\u001b[0m\u001b[0;36m2\u001b[0m\u001b[0;34m)\u001b[0m\u001b[0;34m\u001b[0m\u001b[0;34m\u001b[0m\u001b[0m\n\u001b[0m",
            "\u001b[0;31mTypeError\u001b[0m: 'x' is an invalid keyword argument for print()"
          ]
        }
      ]
    }
  ]
}