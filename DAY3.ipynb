{
  "nbformat": 4,
  "nbformat_minor": 0,
  "metadata": {
    "colab": {
      "name": "DAY3.ipynb",
      "provenance": [],
      "collapsed_sections": [],
      "authorship_tag": "ABX9TyP3p4x2lhpDdu5m289behoR",
      "include_colab_link": true
    },
    "kernelspec": {
      "name": "python3",
      "display_name": "Python 3"
    },
    "language_info": {
      "name": "python"
    }
  },
  "cells": [
    {
      "cell_type": "markdown",
      "metadata": {
        "id": "view-in-github",
        "colab_type": "text"
      },
      "source": [
        "<a href=\"https://colab.research.google.com/github/Aisha1820/2216126-AI-ML-BootCamp/blob/main/DAY3.ipynb\" target=\"_parent\"><img src=\"https://colab.research.google.com/assets/colab-badge.svg\" alt=\"Open In Colab\"/></a>"
      ]
    },
    {
      "cell_type": "code",
      "execution_count": 2,
      "metadata": {
        "id": "4y9oAfSDlZ6A",
        "colab": {
          "base_uri": "https://localhost:8080/"
        },
        "outputId": "1df1500c-a15a-4b99-9e19-b4662233f976"
      },
      "outputs": [
        {
          "output_type": "stream",
          "name": "stdout",
          "text": [
            "Addition of 2 numbers is 10\n",
            "Sub of 2 numbers is 5\n"
          ]
        }
      ],
      "source": [
        "#class & object\n",
        "class CO:\n",
        "  def subn(self,a,b):\n",
        "    return a-b\n",
        "  def addn(self,a,b):\n",
        "    return a+b\n",
        "obj=CO()\n",
        "print(\"Addition of 2 numbers is\",obj.addn(5,5))\n",
        "print(\"Sub of 2 numbers is\",obj.subn(10,5))"
      ]
    },
    {
      "cell_type": "code",
      "source": [
        "class C1:\n",
        "  '''description'''\n",
        "  class_var=\"demonstrates class creation\"\n",
        "  def cm(self):\n",
        "    return\"method invocation\"\n",
        "  def __str__(self):\n",
        "    return\"returns string to object\"\n",
        "obj1=C1()\n",
        "print(obj1.class_var)\n",
        "print(obj1.cm())  \n",
        "print(obj1)  "
      ],
      "metadata": {
        "colab": {
          "base_uri": "https://localhost:8080/"
        },
        "id": "TM1X1OUkER51",
        "outputId": "568b2f7d-5beb-436c-cb5b-c7c6b3e39ab9"
      },
      "execution_count": 10,
      "outputs": [
        {
          "output_type": "stream",
          "name": "stdout",
          "text": [
            "demonstrates class creation\n",
            "method invocation\n",
            "returns string to object\n"
          ]
        }
      ]
    },
    {
      "cell_type": "markdown",
      "source": [
        "Activity1: addition,sub,mul,div,floor div,mod,power\n",
        "\n",
        "arithmeticclass"
      ],
      "metadata": {
        "id": "AusX-1J5FwCc"
      }
    },
    {
      "cell_type": "code",
      "source": [
        "#arithmetic\n"
      ],
      "metadata": {
        "id": "JGqpI-jCGLlk"
      },
      "execution_count": null,
      "outputs": []
    },
    {
      "cell_type": "code",
      "source": [
        "#inheritance\n",
        "\n",
        "#single\n",
        "class Animal:\n",
        "  def animal_sounds(self):\n",
        "    return\"makes sound\"\n",
        "class Cat(Animal):\n",
        "  def cat_sound(self):\n",
        "    return self.animal_sounds()+\"MEOW\"\n",
        "  def __str__(self):\n",
        "    return\"CAT\" \n",
        "catobj=Cat()\n",
        "print(catobj,catobj.cat_sound())  \n",
        "\n",
        "#hierarchical\n",
        "class Animal:\n",
        "  def animal_sounds(self):\n",
        "    return\"makes sound\"\n",
        "class Cat(Animal):\n",
        "  def cat_sound(self):\n",
        "    return self.animal_sounds()+\"MEOW\"\n",
        "  def __str__(self):\n",
        "    return\"CAT\" \n",
        "\n",
        "class Dog(Animal):\n",
        "  def dog_sound(self):\n",
        "     return self.animal_sounds()+\"BOw\"\n",
        "  def __str__(self):\n",
        "     return\"DOG\"\n",
        "catobj=Cat()    \n",
        "print(catobj,catobj.cat_sound())  \n",
        "dogobj=Dog()\n",
        "print(dogobj,dogobj.dog_sound())"
      ],
      "metadata": {
        "colab": {
          "base_uri": "https://localhost:8080/"
        },
        "id": "9MdUmR0UHSo4",
        "outputId": "f9543239-37a5-44dd-8385-e977e4d010b0"
      },
      "execution_count": 53,
      "outputs": [
        {
          "output_type": "stream",
          "name": "stdout",
          "text": [
            "CAT makes soundMEOW\n",
            "CAT makes soundMEOW\n",
            "DOG makes soundBOw\n"
          ]
        }
      ]
    },
    {
      "cell_type": "code",
      "source": [
        "#multilevel inheritance\n",
        "class Animal:\n",
        "  def animal_sounds(self):\n",
        "    return \"makes sound\"\n",
        "class Cat(Animal):\n",
        "  def cat_sound(self):\n",
        "    return self.animal_sounds()+\"MEOW\"\n",
        "class CatColor(Cat):\n",
        "  def __str__(self):\n",
        "    return \"CAT\"\n",
        "  def color(self):\n",
        "     return \"color is white\"\n",
        "\n",
        "#dog example:\n",
        "class Animal:\n",
        "  def animal_sounds(self):\n",
        "    return \"makes sound\"\n",
        "class Dog(Animal):\n",
        "  def dog_sound(self):\n",
        "    return self.animal_sounds()+\"BOW\"\n",
        "class DogColor(Dog):\n",
        "  def __str__(self):\n",
        "    return \"DOG\"\n",
        "  def color(self):\n",
        "     return \"color is black\"        \n"
      ],
      "metadata": {
        "id": "fTZpA2XBLmQ9"
      },
      "execution_count": 56,
      "outputs": []
    },
    {
      "cell_type": "code",
      "source": [
        "#name\n",
        "try:\n",
        "  print(x)\n",
        "except NameError as ne:\n",
        "  print(\"exception occurred\",ne)\n",
        "print(\"executed\")   "
      ],
      "metadata": {
        "colab": {
          "base_uri": "https://localhost:8080/"
        },
        "id": "OXBjboNdMQmy",
        "outputId": "ad6a3bde-0adc-4cf6-f714-7e4cecd6381b"
      },
      "execution_count": 31,
      "outputs": [
        {
          "output_type": "stream",
          "name": "stdout",
          "text": [
            "exception occurred name 'x' is not defined\n",
            "executed\n"
          ]
        }
      ]
    },
    {
      "cell_type": "code",
      "source": [
        "#value error\n",
        "a=\"25 xyz\"\n",
        "print(int(a))"
      ],
      "metadata": {
        "colab": {
          "base_uri": "https://localhost:8080/",
          "height": 200
        },
        "id": "tIITCxjhMuHu",
        "outputId": "869b4c22-8697-498c-a81c-c9f91a8b0cb2"
      },
      "execution_count": 36,
      "outputs": [
        {
          "output_type": "error",
          "ename": "ValueError",
          "evalue": "ignored",
          "traceback": [
            "\u001b[0;31m---------------------------------------------------------------------------\u001b[0m",
            "\u001b[0;31mValueError\u001b[0m                                Traceback (most recent call last)",
            "\u001b[0;32m<ipython-input-36-d7f61ebe063d>\u001b[0m in \u001b[0;36m<module>\u001b[0;34m()\u001b[0m\n\u001b[1;32m      1\u001b[0m \u001b[0;31m#value error\u001b[0m\u001b[0;34m\u001b[0m\u001b[0;34m\u001b[0m\u001b[0;34m\u001b[0m\u001b[0m\n\u001b[1;32m      2\u001b[0m \u001b[0ma\u001b[0m\u001b[0;34m=\u001b[0m\u001b[0;34m\"25 xyz\"\u001b[0m\u001b[0;34m\u001b[0m\u001b[0;34m\u001b[0m\u001b[0m\n\u001b[0;32m----> 3\u001b[0;31m \u001b[0mprint\u001b[0m\u001b[0;34m(\u001b[0m\u001b[0mint\u001b[0m\u001b[0;34m(\u001b[0m\u001b[0ma\u001b[0m\u001b[0;34m)\u001b[0m\u001b[0;34m)\u001b[0m\u001b[0;34m\u001b[0m\u001b[0;34m\u001b[0m\u001b[0m\n\u001b[0m",
            "\u001b[0;31mValueError\u001b[0m: invalid literal for int() with base 10: '25 xyz'"
          ]
        }
      ]
    },
    {
      "cell_type": "code",
      "source": [
        "#value error using try\n",
        "a='25 xyz'\n",
        "try:\n",
        "  print(int(a))\n",
        "except ValueError as e:\n",
        "  print(e)"
      ],
      "metadata": {
        "colab": {
          "base_uri": "https://localhost:8080/"
        },
        "id": "MQaW1-NHM15I",
        "outputId": "8b23eda4-54b5-4ad8-ec26-5a55ae3bfe25"
      },
      "execution_count": 35,
      "outputs": [
        {
          "output_type": "stream",
          "name": "stdout",
          "text": [
            "invalid literal for int() with base 10: '25 xyz'\n"
          ]
        }
      ]
    },
    {
      "cell_type": "code",
      "source": [
        "#exception handling\n",
        "#2003\n",
        "class INVALIDSTUDENTID(Exception):\n",
        " pass\n",
        "stid=input(\"enter student id\")\n",
        "try:\n",
        "   if stid[:4]!=\"2003\":\n",
        "     raise INVALIDSTUDENTID\n",
        "except INVALIDSTUDENTID:\n",
        "  print(\"error raised due to invalid details\")\n",
        "print(\"details verified\")   \n",
        "\n",
        "\n",
        "#2\n",
        "class INVALIDSTUDENTID(Exception):\n",
        " def __str__(self):\n",
        "   return \"ERROR RAISED\"\n",
        "stid=input(\"enter student id\")   \n",
        "try:\n",
        "   if stid[:4]!=\"2003\":\n",
        "     raise INVALIDSTUDENTID\n",
        "except INVALIDSTUDENTID as invalid:\n",
        "  print(\"invalid\")\n",
        "print(\"details verified\")   "
      ],
      "metadata": {
        "colab": {
          "base_uri": "https://localhost:8080/"
        },
        "id": "zXTqgpPJO5m7",
        "outputId": "7ce56da3-a575-4427-f49e-79e654ce99bc"
      },
      "execution_count": 57,
      "outputs": [
        {
          "output_type": "stream",
          "name": "stdout",
          "text": [
            "enter student id2003\n",
            "details verified\n",
            "enter student id2004\n",
            "invalid\n",
            "details verified\n"
          ]
        }
      ]
    },
    {
      "cell_type": "markdown",
      "source": [
        "Activity2: implement exception handling for age of voter."
      ],
      "metadata": {
        "id": "gXsa21AuQUuM"
      }
    },
    {
      "cell_type": "code",
      "source": [
        ""
      ],
      "metadata": {
        "id": "gpQZJvBlQ5Nd"
      },
      "execution_count": null,
      "outputs": []
    },
    {
      "cell_type": "code",
      "source": [
        "f=open(\"sample.txt\",\"x\")"
      ],
      "metadata": {
        "colab": {
          "base_uri": "https://localhost:8080/",
          "height": 165
        },
        "id": "T9P5PMTyh_IV",
        "outputId": "40bb9ca1-1f30-4ff9-dfa1-fcf95873a0c7"
      },
      "execution_count": 64,
      "outputs": [
        {
          "output_type": "error",
          "ename": "FileExistsError",
          "evalue": "ignored",
          "traceback": [
            "\u001b[0;31m---------------------------------------------------------------------------\u001b[0m",
            "\u001b[0;31mFileExistsError\u001b[0m                           Traceback (most recent call last)",
            "\u001b[0;32m<ipython-input-64-0bfe56dde493>\u001b[0m in \u001b[0;36m<module>\u001b[0;34m()\u001b[0m\n\u001b[0;32m----> 1\u001b[0;31m \u001b[0mf\u001b[0m\u001b[0;34m=\u001b[0m\u001b[0mopen\u001b[0m\u001b[0;34m(\u001b[0m\u001b[0;34m\"sample.txt\"\u001b[0m\u001b[0;34m,\u001b[0m\u001b[0;34m\"x\"\u001b[0m\u001b[0;34m)\u001b[0m\u001b[0;34m\u001b[0m\u001b[0;34m\u001b[0m\u001b[0m\n\u001b[0m",
            "\u001b[0;31mFileExistsError\u001b[0m: [Errno 17] File exists: 'sample.txt'"
          ]
        }
      ]
    },
    {
      "cell_type": "code",
      "source": [
        "f1=open(\"sample.txt\",\"w\")\n",
        "f1.write(\"WELCOME\")\n",
        "f1.close()"
      ],
      "metadata": {
        "id": "x2SxLZi8jeYp"
      },
      "execution_count": 67,
      "outputs": []
    },
    {
      "cell_type": "markdown",
      "source": [
        "1.append\n",
        "2.reverse palindrome\n",
        "3.print even elements\n",
        "4.print odd elements\n",
        "5.print element alterante capital and small \n",
        "6.to check a number is armstrong\n",
        "7.to check if letter starts with particular alphabet in file\n",
        "8.create a dictionary and save it as a file, and then convert the elements into list"
      ],
      "metadata": {
        "id": "vO1a1Q4knLBL"
      }
    },
    {
      "cell_type": "code",
      "source": [
        "#6 qstn\n",
        "dic={'apple':1,'banana':2}\n",
        "list=list(dic.items())\n",
        "print(list)\n",
        "f=open('sample.txt','w')\n",
        "data=str(dic)\n",
        "f.write(data)\n",
        "\n"
      ],
      "metadata": {
        "colab": {
          "base_uri": "https://localhost:8080/",
          "height": 235
        },
        "id": "TXLM9inSnNXZ",
        "outputId": "0ceb08ef-8840-40cd-fbb7-a6976f8bf71e"
      },
      "execution_count": 99,
      "outputs": [
        {
          "output_type": "error",
          "ename": "TypeError",
          "evalue": "ignored",
          "traceback": [
            "\u001b[0;31m---------------------------------------------------------------------------\u001b[0m",
            "\u001b[0;31mTypeError\u001b[0m                                 Traceback (most recent call last)",
            "\u001b[0;32m<ipython-input-99-04c7b25f6fd5>\u001b[0m in \u001b[0;36m<module>\u001b[0;34m()\u001b[0m\n\u001b[1;32m      1\u001b[0m \u001b[0;31m#6 qstn\u001b[0m\u001b[0;34m\u001b[0m\u001b[0;34m\u001b[0m\u001b[0;34m\u001b[0m\u001b[0m\n\u001b[1;32m      2\u001b[0m \u001b[0mdic\u001b[0m\u001b[0;34m=\u001b[0m\u001b[0;34m{\u001b[0m\u001b[0;34m'apple'\u001b[0m\u001b[0;34m:\u001b[0m\u001b[0;36m1\u001b[0m\u001b[0;34m,\u001b[0m\u001b[0;34m'banana'\u001b[0m\u001b[0;34m:\u001b[0m\u001b[0;36m2\u001b[0m\u001b[0;34m}\u001b[0m\u001b[0;34m\u001b[0m\u001b[0;34m\u001b[0m\u001b[0m\n\u001b[0;32m----> 3\u001b[0;31m \u001b[0mlist\u001b[0m\u001b[0;34m=\u001b[0m\u001b[0mlist\u001b[0m\u001b[0;34m(\u001b[0m\u001b[0mdic\u001b[0m\u001b[0;34m.\u001b[0m\u001b[0mitems\u001b[0m\u001b[0;34m(\u001b[0m\u001b[0;34m)\u001b[0m\u001b[0;34m)\u001b[0m\u001b[0;34m\u001b[0m\u001b[0;34m\u001b[0m\u001b[0m\n\u001b[0m\u001b[1;32m      4\u001b[0m \u001b[0mprint\u001b[0m\u001b[0;34m(\u001b[0m\u001b[0mlist\u001b[0m\u001b[0;34m)\u001b[0m\u001b[0;34m\u001b[0m\u001b[0;34m\u001b[0m\u001b[0m\n\u001b[1;32m      5\u001b[0m \u001b[0mf\u001b[0m\u001b[0;34m=\u001b[0m\u001b[0mopen\u001b[0m\u001b[0;34m(\u001b[0m\u001b[0;34m'sample.txt'\u001b[0m\u001b[0;34m,\u001b[0m\u001b[0;34m'w'\u001b[0m\u001b[0;34m)\u001b[0m\u001b[0;34m\u001b[0m\u001b[0;34m\u001b[0m\u001b[0m\n",
            "\u001b[0;31mTypeError\u001b[0m: 'list' object is not callable"
          ]
        }
      ]
    },
    {
      "cell_type": "code",
      "source": [
        "dic={'apple':1,'banana':2}\n",
        "try:\n",
        "  f=open('sample.txt','w')\n",
        "  f.write(str(dic))\n",
        "  f.close()\n",
        "except:\n",
        "  print(\"write the file\")"
      ],
      "metadata": {
        "id": "DI2uJsPUowXP"
      },
      "execution_count": 71,
      "outputs": []
    },
    {
      "cell_type": "code",
      "source": [
        "dic={'apple':1,'banana':2}\n",
        "list = list(dict.items())\n",
        "print(list)\n"
      ],
      "metadata": {
        "colab": {
          "base_uri": "https://localhost:8080/",
          "height": 200
        },
        "id": "Um00cijZqV7W",
        "outputId": "1001fd58-e9d0-492d-da04-f8f58e15f7b7"
      },
      "execution_count": 97,
      "outputs": [
        {
          "output_type": "error",
          "ename": "TypeError",
          "evalue": "ignored",
          "traceback": [
            "\u001b[0;31m---------------------------------------------------------------------------\u001b[0m",
            "\u001b[0;31mTypeError\u001b[0m                                 Traceback (most recent call last)",
            "\u001b[0;32m<ipython-input-97-9fc2a70be032>\u001b[0m in \u001b[0;36m<module>\u001b[0;34m()\u001b[0m\n\u001b[1;32m      1\u001b[0m \u001b[0mdic\u001b[0m\u001b[0;34m=\u001b[0m\u001b[0;34m{\u001b[0m\u001b[0;34m'apple'\u001b[0m\u001b[0;34m:\u001b[0m\u001b[0;36m1\u001b[0m\u001b[0;34m,\u001b[0m\u001b[0;34m'banana'\u001b[0m\u001b[0;34m:\u001b[0m\u001b[0;36m2\u001b[0m\u001b[0;34m}\u001b[0m\u001b[0;34m\u001b[0m\u001b[0;34m\u001b[0m\u001b[0m\n\u001b[0;32m----> 2\u001b[0;31m \u001b[0mlist\u001b[0m \u001b[0;34m=\u001b[0m \u001b[0mlist\u001b[0m\u001b[0;34m(\u001b[0m\u001b[0mdict\u001b[0m\u001b[0;34m.\u001b[0m\u001b[0mitems\u001b[0m\u001b[0;34m(\u001b[0m\u001b[0;34m)\u001b[0m\u001b[0;34m)\u001b[0m\u001b[0;34m\u001b[0m\u001b[0;34m\u001b[0m\u001b[0m\n\u001b[0m\u001b[1;32m      3\u001b[0m \u001b[0mprint\u001b[0m\u001b[0;34m(\u001b[0m\u001b[0mlist\u001b[0m\u001b[0;34m)\u001b[0m\u001b[0;34m\u001b[0m\u001b[0;34m\u001b[0m\u001b[0m\n",
            "\u001b[0;31mTypeError\u001b[0m: descriptor 'items' of 'dict' object needs an argument"
          ]
        }
      ]
    },
    {
      "cell_type": "code",
      "source": [
        "x=int(input())\n",
        "y=x*2\n",
        "\n",
        "\n",
        "res='z'*x\n",
        "y='o'*y\n",
        "res=res+y\n",
        "print(res)"
      ],
      "metadata": {
        "colab": {
          "base_uri": "https://localhost:8080/"
        },
        "id": "PTbVqFU3P4zA",
        "outputId": "b47dce3b-bc4c-4722-c13b-503fc0090575"
      },
      "execution_count": 103,
      "outputs": [
        {
          "output_type": "stream",
          "name": "stdout",
          "text": [
            "1\n",
            "zoo\n"
          ]
        }
      ]
    }
  ]
}